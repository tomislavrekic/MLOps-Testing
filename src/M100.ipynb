{
 "cells": [
  {
   "cell_type": "code",
   "execution_count": 68,
   "metadata": {},
   "outputs": [],
   "source": [
    "from torch.utils.data import Dataset\n",
    "import numpy as np\n",
    "from torch.nn.functional import one_hot\n",
    "import torch\n",
    "\n",
    "class M100ImageDataset(Dataset):\n",
    "    def __init__(self, *, data_path, train=True):\n",
    "        # Loading data from the 'mnist_compressed.npz' file\n",
    "        data = np.load(data_path)\n",
    "        # Reading variables containing the data\n",
    "        X_test, y_test, X_train, y_train =  data['test_images'], data['test_labels'], data['train_images'], data['train_labels']\n",
    "\n",
    "        if train:\n",
    "            self.data = torch.tensor(X_train.astype('float32') / 255., dtype=torch.float32).unsqueeze(1)\n",
    "            self.labels = one_hot(torch.tensor(y_train), num_classes=100).to(torch.float32)\n",
    "        else:\n",
    "            self.data = torch.tensor(X_test.astype('float32') / 255., dtype=torch.float32).unsqueeze(1)\n",
    "            self.labels = one_hot(torch.tensor(y_test), num_classes=100).to(torch.float32)\n",
    "        \n",
    "    def __len__(self):\n",
    "        return len(self.labels)\n",
    "    \n",
    "    def __getitem__(self, index):\n",
    "        return self.data[index], self.labels[index]"
   ]
  },
  {
   "cell_type": "code",
   "execution_count": 69,
   "metadata": {},
   "outputs": [],
   "source": [
    "from torch.utils.data import DataLoader\n",
    "\n",
    "m100_path = '../data/mnist100/mnist_compressed.npz'\n",
    "\n",
    "training_data = M100ImageDataset(data_path=m100_path, train=True)\n",
    "test_data = M100ImageDataset(data_path=m100_path, train=False)\n",
    "\n",
    "train_dataloader = DataLoader(training_data, batch_size=32, shuffle=True)\n",
    "test_dataloader = DataLoader(test_data, batch_size=32, shuffle=True)"
   ]
  },
  {
   "cell_type": "code",
   "execution_count": 70,
   "metadata": {},
   "outputs": [],
   "source": [
    "import torch.nn as nn\n",
    "\n",
    "class M100Net(nn.Module):\n",
    "    def __init__(self):\n",
    "        super().__init__()\n",
    "        self.conv1 = nn.Conv2d(in_channels=1, out_channels=32, kernel_size=3, stride=1)\n",
    "        self.relu1 = nn.ReLU()\n",
    "        self.pool1 = nn.MaxPool2d(kernel_size=2, stride=2)\n",
    "        self.conv2 = nn.Conv2d(in_channels=32, out_channels=16, kernel_size=3, stride=1)\n",
    "        self.relu2 = nn.ReLU()\n",
    "        self.pool2 = nn.MaxPool2d(kernel_size=2, stride=2)\n",
    "        self.fc1 = nn.Linear(in_features=(5*12*16), out_features=512)\n",
    "        self.fc2 = nn.Linear(in_features=512, out_features=100)\n",
    "        self.softmax = nn.LogSoftmax()\n",
    "\n",
    "    def forward(self, x):\n",
    "        x = self.pool1(self.relu1(self.conv1(x)))\n",
    "        x = self.pool2(self.relu2(self.conv2(x)))\n",
    "        x = torch.flatten(x,1)\n",
    "        x = self.fc1(x)\n",
    "        x = self.fc2(x)\n",
    "        return self.softmax(x)"
   ]
  },
  {
   "cell_type": "code",
   "execution_count": 71,
   "metadata": {},
   "outputs": [],
   "source": [
    "allow_cuda = False\n",
    "\n",
    "\n",
    "use_cuda = torch.cuda.is_available()\n",
    "device = torch.device('cuda') if use_cuda and allow_cuda else torch.device('cpu')\n",
    "\n",
    "loss_fn = torch.nn.SmoothL1Loss()\n",
    "\n",
    "model = M100Net()\n",
    "optimizer = torch.optim.SGD(model.parameters(), lr=0.001, momentum=0.9)"
   ]
  },
  {
   "cell_type": "code",
   "execution_count": 78,
   "metadata": {},
   "outputs": [
    {
     "name": "stderr",
     "output_type": "stream",
     "text": [
      "/tmp/ipykernel_255393/3076540559.py:22: UserWarning: Implicit dimension choice for log_softmax has been deprecated. Change the call to include dim=X as an argument.\n",
      "  return self.softmax(x)\n"
     ]
    },
    {
     "name": "stdout",
     "output_type": "stream",
     "text": [
      "[1,   100] loss: 0.206\n",
      "[1,   200] loss: 0.206\n",
      "[1,   300] loss: 0.206\n",
      "[1,   400] loss: 0.206\n",
      "[1,   500] loss: 0.206\n",
      "[1,   600] loss: 0.206\n",
      "[1,   700] loss: 0.206\n",
      "[1,   800] loss: 0.206\n",
      "[1,   900] loss: 0.206\n",
      "[1,  1000] loss: 0.206\n",
      "[1,  1100] loss: 0.206\n",
      "[1,  1200] loss: 0.206\n",
      "[1,  1300] loss: 0.206\n",
      "[1,  1400] loss: 0.206\n",
      "[1,  1500] loss: 0.206\n",
      "[1,  1600] loss: 0.206\n",
      "[1,  1700] loss: 0.206\n",
      "[1,  1800] loss: 0.206\n",
      "[2,   100] loss: 0.206\n",
      "[2,   200] loss: 0.206\n",
      "[2,   300] loss: 0.206\n",
      "[2,   400] loss: 0.206\n",
      "[2,   500] loss: 0.206\n",
      "[2,   600] loss: 0.206\n",
      "[2,   700] loss: 0.206\n",
      "[2,   800] loss: 0.206\n",
      "[2,   900] loss: 0.206\n",
      "[2,  1000] loss: 0.206\n",
      "[2,  1100] loss: 0.206\n",
      "[2,  1200] loss: 0.206\n",
      "[2,  1300] loss: 0.206\n",
      "[2,  1400] loss: 0.206\n",
      "[2,  1500] loss: 0.206\n",
      "[2,  1600] loss: 0.206\n",
      "[2,  1700] loss: 0.206\n",
      "[2,  1800] loss: 0.206\n",
      "Finished Training\n"
     ]
    }
   ],
   "source": [
    "for epoch in range(2):\n",
    "    running_loss = 0.0\n",
    "    for i, data in enumerate(train_dataloader):\n",
    "        inputs, labels = data\n",
    "        #print(inputs.shape)\n",
    "        optimizer.zero_grad()\n",
    "\n",
    "        outputs = model(inputs)\n",
    "        loss = loss_fn(outputs, labels)\n",
    "        loss.backward()\n",
    "        optimizer.step()\n",
    "\n",
    "        running_loss += loss.item()\n",
    "        if i % 100 == 99:    # print every 2000 mini-batches\n",
    "            print(f'[{epoch + 1}, {i + 1:5d}] loss: {running_loss / 2000:.3f}')\n",
    "            running_loss = 0.0\n",
    "print(\"Finished Training\")"
   ]
  },
  {
   "cell_type": "code",
   "execution_count": 74,
   "metadata": {},
   "outputs": [],
   "source": [
    "save_path = \"../saved_models/test.pth\"\n",
    "torch.save(model.state_dict(), save_path)"
   ]
  },
  {
   "cell_type": "code",
   "execution_count": 95,
   "metadata": {},
   "outputs": [
    {
     "name": "stderr",
     "output_type": "stream",
     "text": [
      "/tmp/ipykernel_255393/3076540559.py:22: UserWarning: Implicit dimension choice for log_softmax has been deprecated. Change the call to include dim=X as an argument.\n",
      "  return self.softmax(x)\n"
     ]
    },
    {
     "name": "stdout",
     "output_type": "stream",
     "text": [
      "85\n",
      "10000\n",
      "Accuracy of the network on the 10000 test images: 0 %\n"
     ]
    }
   ],
   "source": [
    "correct = 0\n",
    "total = 0\n",
    "# since we're not training, we don't need to calculate the gradients for our outputs\n",
    "with torch.no_grad():\n",
    "    for data in test_dataloader:\n",
    "        images, labels = data\n",
    "        # calculate outputs by running images through the network\n",
    "        outputs = model(images)\n",
    "        # the class with the highest energy is what we choose as prediction\n",
    "        _, predicted = torch.max(outputs.data, 1)\n",
    "        labels = torch.argmax(labels, dim=1)\n",
    "        total += labels.size(0)\n",
    "        for j in range(labels.shape[0]):\n",
    "            if predicted[j] == labels[j]:\n",
    "                correct += 1\n",
    "        \n",
    "        #correct += (predicted == labels).sum().item()\n",
    "\n",
    "print(correct)\n",
    "print(total)\n",
    "print(f'Accuracy of the network on the 10000 test images: {100 * correct // total} %')"
   ]
  }
 ],
 "metadata": {
  "kernelspec": {
   "display_name": "Python 3",
   "language": "python",
   "name": "python3"
  },
  "language_info": {
   "codemirror_mode": {
    "name": "ipython",
    "version": 3
   },
   "file_extension": ".py",
   "mimetype": "text/x-python",
   "name": "python",
   "nbconvert_exporter": "python",
   "pygments_lexer": "ipython3",
   "version": "3.10.12"
  },
  "orig_nbformat": 4
 },
 "nbformat": 4,
 "nbformat_minor": 2
}
