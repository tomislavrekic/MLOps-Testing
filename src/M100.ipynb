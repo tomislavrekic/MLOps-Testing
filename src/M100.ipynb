{
 "cells": [
  {
   "cell_type": "code",
   "execution_count": 6,
   "metadata": {},
   "outputs": [],
   "source": [
    "from torch.utils.data import Dataset\n",
    "import numpy as np\n",
    "from torch.nn.functional import one_hot\n",
    "import torch\n",
    "\n",
    "class M100ImageDataset(Dataset):\n",
    "    def __init__(self, *, data_path, train=True):\n",
    "        # Loading data from the 'mnist_compressed.npz' file\n",
    "        data = np.load(data_path)\n",
    "        # Reading variables containing the data\n",
    "        X_test, y_test, X_train, y_train =  data['test_images'], data['test_labels'], data['train_images'], data['train_labels']\n",
    "\n",
    "        if train:\n",
    "            self.data = torch.tensor(X_train.astype('float32') / 255.)\n",
    "            self.labels = one_hot(torch.tensor(y_train), num_classes=100)\n",
    "        else:\n",
    "            self.data = torch.tensor(X_test.astype('float32') / 255.)\n",
    "            self.labels = one_hot(torch.tensor(y_test), num_classes=100)\n",
    "        \n",
    "    def __len__(self):\n",
    "        return len(self.labels)\n",
    "    \n",
    "    def __getitem__(self, index):\n",
    "        return self.data[index], self.labels[index]"
   ]
  },
  {
   "cell_type": "code",
   "execution_count": 7,
   "metadata": {},
   "outputs": [],
   "source": [
    "from torch.utils.data import DataLoader\n",
    "\n",
    "m100_path = '../data/mnist100/mnist_compressed.npz'\n",
    "\n",
    "training_data = M100ImageDataset(data_path=m100_path, train=True)\n",
    "test_data = M100ImageDataset(data_path=m100_path, train=False)\n",
    "\n",
    "train_dataloader = DataLoader(training_data, batch_size=32, shuffle=True)\n",
    "test_dataloader = DataLoader(test_data, batch_size=32, shuffle=True)"
   ]
  },
  {
   "cell_type": "code",
   "execution_count": null,
   "metadata": {},
   "outputs": [],
   "source": []
  }
 ],
 "metadata": {
  "kernelspec": {
   "display_name": "Python 3",
   "language": "python",
   "name": "python3"
  },
  "language_info": {
   "codemirror_mode": {
    "name": "ipython",
    "version": 3
   },
   "file_extension": ".py",
   "mimetype": "text/x-python",
   "name": "python",
   "nbconvert_exporter": "python",
   "pygments_lexer": "ipython3",
   "version": "3.10.12"
  },
  "orig_nbformat": 4
 },
 "nbformat": 4,
 "nbformat_minor": 2
}
